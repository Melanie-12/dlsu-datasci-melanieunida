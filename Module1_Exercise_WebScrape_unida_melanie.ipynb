{
 "cells": [
  {
   "cell_type": "code",
   "execution_count": 2,
   "metadata": {},
   "outputs": [],
   "source": [
    "from bs4 import BeautifulSoup\n",
    "import requests\n",
    "import pandas as pd"
   ]
  },
  {
   "cell_type": "code",
   "execution_count": 16,
   "metadata": {},
   "outputs": [
    {
     "ename": "NameError",
     "evalue": "name 'requests' is not defined",
     "output_type": "error",
     "traceback": [
      "\u001b[1;31m---------------------------------------------------------------------------\u001b[0m",
      "\u001b[1;31mNameError\u001b[0m                                 Traceback (most recent call last)",
      "\u001b[1;32m<ipython-input-16-f0acdf6718af>\u001b[0m in \u001b[0;36m<module>\u001b[1;34m\u001b[0m\n\u001b[0;32m     31\u001b[0m \u001b[1;33m\u001b[0m\u001b[0m\n\u001b[0;32m     32\u001b[0m \u001b[1;31m#initial set up to crawl the book links and next page\u001b[0m\u001b[1;33m\u001b[0m\u001b[1;33m\u001b[0m\u001b[1;33m\u001b[0m\u001b[0m\n\u001b[1;32m---> 33\u001b[1;33m \u001b[0mres\u001b[0m \u001b[1;33m=\u001b[0m \u001b[0mget_title_links_and_next_page\u001b[0m\u001b[1;33m(\u001b[0m\u001b[1;34m'http://books.toscrape.com/books/index.html'\u001b[0m\u001b[1;33m)\u001b[0m\u001b[1;33m\u001b[0m\u001b[1;33m\u001b[0m\u001b[0m\n\u001b[0m\u001b[0;32m     34\u001b[0m \u001b[0mtitle_links\u001b[0m \u001b[1;33m=\u001b[0m \u001b[0mres\u001b[0m\u001b[1;33m[\u001b[0m\u001b[1;36m0\u001b[0m\u001b[1;33m]\u001b[0m\u001b[1;33m\u001b[0m\u001b[1;33m\u001b[0m\u001b[0m\n\u001b[0;32m     35\u001b[0m \u001b[0mprint\u001b[0m\u001b[1;33m(\u001b[0m\u001b[0mc\u001b[0m\u001b[1;33m)\u001b[0m\u001b[1;33m\u001b[0m\u001b[1;33m\u001b[0m\u001b[0m\n",
      "\u001b[1;32m<ipython-input-16-f0acdf6718af>\u001b[0m in \u001b[0;36mget_title_links_and_next_page\u001b[1;34m(page_url)\u001b[0m\n\u001b[0;32m      5\u001b[0m     \u001b[0mlist_links\u001b[0m \u001b[1;33m=\u001b[0m \u001b[1;33m[\u001b[0m\u001b[1;33m]\u001b[0m\u001b[1;33m\u001b[0m\u001b[1;33m\u001b[0m\u001b[0m\n\u001b[0;32m      6\u001b[0m     \u001b[1;31m#get the html for the url that was given\u001b[0m\u001b[1;33m\u001b[0m\u001b[1;33m\u001b[0m\u001b[1;33m\u001b[0m\u001b[0m\n\u001b[1;32m----> 7\u001b[1;33m     \u001b[0mpage\u001b[0m \u001b[1;33m=\u001b[0m \u001b[0mrequests\u001b[0m\u001b[1;33m.\u001b[0m\u001b[0mget\u001b[0m\u001b[1;33m(\u001b[0m\u001b[1;34m'http://books.toscrape.com/books/index.html'\u001b[0m\u001b[1;33m)\u001b[0m\u001b[1;33m\u001b[0m\u001b[1;33m\u001b[0m\u001b[0m\n\u001b[0m\u001b[0;32m      8\u001b[0m     \u001b[1;31m#parse the html file for beautifulsoup to query on\u001b[0m\u001b[1;33m\u001b[0m\u001b[1;33m\u001b[0m\u001b[1;33m\u001b[0m\u001b[0m\n\u001b[0;32m      9\u001b[0m     \u001b[0msoup\u001b[0m \u001b[1;33m=\u001b[0m \u001b[0mBeautifulSoup\u001b[0m\u001b[1;33m(\u001b[0m\u001b[0mpage\u001b[0m\u001b[1;33m.\u001b[0m\u001b[0mtext\u001b[0m\u001b[1;33m,\u001b[0m \u001b[1;34m'html.parser'\u001b[0m\u001b[1;33m)\u001b[0m\u001b[1;33m\u001b[0m\u001b[1;33m\u001b[0m\u001b[0m\n",
      "\u001b[1;31mNameError\u001b[0m: name 'requests' is not defined"
     ]
    }
   ],
   "source": [
    "base_url = \"http://books.toscrape.com/\"\n",
    "\n",
    "def get_title_links_and_next_page(page_url):\n",
    "    #this is where i will store the links of the title\n",
    "    list_links = []\n",
    "    #get the html for the url that was given\n",
    "    page = requests.get('http://books.toscrape.com/')\n",
    "    #parse the html file for beautifulsoup to query on\n",
    "    soup = BeautifulSoup(page.text, 'html.parser')\n",
    "    #insecting the page we notice that the books are placed under\n",
    "    #article tag so we get all articles\n",
    "    print(a)\n",
    "    for article in soup.find_all('article'):\n",
    "        #the article tag has an anchor tag so we find it and get the href\n",
    "        if \"catalogue\" not in article.find(\"a\")['href']:\n",
    "            url = base_url + \"catalogue/\" + article.find(\"a\")['href']\n",
    "        else:\n",
    "            url = base_url + article.find(\"a\")['href']\n",
    "        #add the title url to our list of titles\n",
    "        list_links.append(url)\n",
    "                        \n",
    "    #try to check if a next button is in the page\n",
    "    try:\n",
    "        next_url = soup.find('li', attrs={'class':'next'}).find(\"a\")['href']\n",
    "    #if none we return None\n",
    "    except:\n",
    "        next_url = None\n",
    "                        \n",
    "    return (list_links, next_url)\n",
    "    print(b)\n",
    "                        \n",
    "#initial set up to crawl the book links and next page \n",
    "res = get_title_links_and_next_page('http://books.toscrape.com/books/index.html')\n",
    "title_links = res[0]\n",
    "print(c)                        \n",
    "#while we get a next page link keep on crawling for book links\n",
    "while res[1]:\n",
    "    #there are cases that the word \"catalogue\" is not in the link so we add it\n",
    "    #so that we can crawl properly\n",
    "    if \"catalogue\" not in res[1]:\n",
    "       page_url = base_url + \"catalogue/\" + res[1]\n",
    "    else:\n",
    "       page_url = base_url + res[1]\n",
    "    res = get_title_links_and_next_page(page_url)\n",
    "    title_links += res[0]\n",
    "                        \n",
    "print(title_links)\n",
    "print(soup.prettify())"
   ]
  },
  {
   "cell_type": "code",
   "execution_count": 15,
   "metadata": {},
   "outputs": [
    {
     "ename": "SyntaxError",
     "evalue": "invalid syntax (<ipython-input-15-366231193758>, line 14)",
     "output_type": "error",
     "traceback": [
      "\u001b[1;36m  File \u001b[1;32m\"<ipython-input-15-366231193758>\"\u001b[1;36m, line \u001b[1;32m14\u001b[0m\n\u001b[1;33m    for title_link in :\u001b[0m\n\u001b[1;37m                      ^\u001b[0m\n\u001b[1;31mSyntaxError\u001b[0m\u001b[1;31m:\u001b[0m invalid syntax\n"
     ]
    }
   ],
   "source": [
    "def get_title(soup):\n",
    "    return soup.find('h1').text\n",
    "\n",
    "def get_price(soup):\n",
    "    return soup.find('p', attrs={'class':'price_color'}).text\n",
    "    \n",
    "def get_description(soup):\n",
    "    return soup.find_all('p')[3].text\n",
    "    \n",
    "def get_availability(soup):\n",
    "    return soup.find('p', attrs={'class':'instock availability'}).text\n",
    "\n",
    "book_data = []\n",
    "for title_link in : \n",
    "    page = requests.get(title.link)\n",
    "    soup = BeautifulSoup(page.text, 'html.parser')\n",
    "    \n",
    "    title = get_title(soup)\n",
    "    price = get_price(soup)\n",
    "    description = get_description(soup)\n",
    "    availability = get_availability(soup)\n",
    "    \n",
    "    book_data += [[title, price, description, availability.strip()]]\n"
   ]
  },
  {
   "cell_type": "code",
   "execution_count": null,
   "metadata": {},
   "outputs": [],
   "source": [
    "df = pd.DataFrame(data=book_data)\n",
    "df.columns = ['title', 'price', 'description', 'availability']\n",
    "display(df)\n",
    "\n",
    "#save to csv file "
   ]
  }
 ],
 "metadata": {
  "kernelspec": {
   "display_name": "Python 3",
   "language": "python",
   "name": "python3"
  },
  "language_info": {
   "codemirror_mode": {
    "name": "ipython",
    "version": 3
   },
   "file_extension": ".py",
   "mimetype": "text/x-python",
   "name": "python",
   "nbconvert_exporter": "python",
   "pygments_lexer": "ipython3",
   "version": "3.7.7"
  }
 },
 "nbformat": 4,
 "nbformat_minor": 4
}
